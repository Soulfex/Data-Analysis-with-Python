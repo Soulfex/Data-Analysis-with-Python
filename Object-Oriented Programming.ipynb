{
 "cells": [
  {
   "cell_type": "code",
   "execution_count": 1,
   "id": "f648b50e",
   "metadata": {},
   "outputs": [],
   "source": [
    "f = lambda x:2*x"
   ]
  },
  {
   "cell_type": "code",
   "execution_count": 3,
   "id": "8210c85c",
   "metadata": {},
   "outputs": [],
   "source": [
    "f.x = 30 # Attribite"
   ]
  },
  {
   "cell_type": "code",
   "execution_count": 6,
   "id": "22c3f6ae",
   "metadata": {},
   "outputs": [],
   "source": [
    "class Foo:\n",
    "    pass"
   ]
  },
  {
   "cell_type": "code",
   "execution_count": 7,
   "id": "8271d748",
   "metadata": {},
   "outputs": [],
   "source": [
    "f = Foo()"
   ]
  },
  {
   "cell_type": "code",
   "execution_count": 9,
   "id": "4e1ec442",
   "metadata": {},
   "outputs": [],
   "source": [
    "f.x = 30"
   ]
  },
  {
   "cell_type": "code",
   "execution_count": 10,
   "id": "94fe6c97",
   "metadata": {},
   "outputs": [
    {
     "data": {
      "text/plain": [
       "30"
      ]
     },
     "execution_count": 10,
     "metadata": {},
     "output_type": "execute_result"
    }
   ],
   "source": [
    "f.x"
   ]
  },
  {
   "cell_type": "code",
   "execution_count": 11,
   "id": "498c6c58",
   "metadata": {},
   "outputs": [],
   "source": [
    "## Now we can instance the attrubutes of our class \n",
    "\n",
    "class Foo:\n",
    "    def __init__(self):\n",
    "        self.x = 30"
   ]
  },
  {
   "cell_type": "code",
   "execution_count": 12,
   "id": "18c37284",
   "metadata": {},
   "outputs": [],
   "source": [
    "iObject = Foo()"
   ]
  },
  {
   "cell_type": "code",
   "execution_count": 13,
   "id": "c645a286",
   "metadata": {},
   "outputs": [
    {
     "data": {
      "text/plain": [
       "30"
      ]
     },
     "execution_count": 13,
     "metadata": {},
     "output_type": "execute_result"
    }
   ],
   "source": [
    "iObject.x"
   ]
  },
  {
   "cell_type": "code",
   "execution_count": 14,
   "id": "57008d1e",
   "metadata": {},
   "outputs": [],
   "source": [
    "# Arguments to the __init_ function\n",
    "\n",
    "class Foo:\n",
    "    def __init__(self, x=30):\n",
    "        self.x = x\n",
    "    "
   ]
  },
  {
   "cell_type": "code",
   "execution_count": 17,
   "id": "11f36ed2",
   "metadata": {},
   "outputs": [
    {
     "data": {
      "text/plain": [
       "30"
      ]
     },
     "execution_count": 17,
     "metadata": {},
     "output_type": "execute_result"
    }
   ],
   "source": [
    "g = Foo()\n",
    "g.x"
   ]
  },
  {
   "cell_type": "code",
   "execution_count": 18,
   "id": "c97dbb4b",
   "metadata": {},
   "outputs": [
    {
     "data": {
      "text/plain": [
       "300"
      ]
     },
     "execution_count": 18,
     "metadata": {},
     "output_type": "execute_result"
    }
   ],
   "source": [
    "g = Foo(300)\n",
    "g.x"
   ]
  },
  {
   "cell_type": "code",
   "execution_count": 19,
   "id": "0b25bb50",
   "metadata": {},
   "outputs": [],
   "source": [
    "# Methods\n",
    "\n",
    "class Foo:\n",
    "    def __init__(self, x = 30):\n",
    "        self.x = x\n",
    "    def foo(self, y = 30):\n",
    "        return self.x*y"
   ]
  },
  {
   "cell_type": "code",
   "execution_count": 22,
   "id": "7a8621fb",
   "metadata": {},
   "outputs": [],
   "source": [
    "tObject = Foo(9)"
   ]
  },
  {
   "cell_type": "code",
   "execution_count": 23,
   "id": "8f507599",
   "metadata": {},
   "outputs": [
    {
     "data": {
      "text/plain": [
       "90"
      ]
     },
     "execution_count": 23,
     "metadata": {},
     "output_type": "execute_result"
    }
   ],
   "source": [
    "tObject.foo(10)"
   ]
  },
  {
   "cell_type": "code",
   "execution_count": 24,
   "id": "b7e7c5c5",
   "metadata": {},
   "outputs": [],
   "source": [
    "class Foo:\n",
    "    def __init__(self, x = 10):\n",
    "        self.x = x\n",
    "    def __add__(self,y):\n",
    "        return self.x + y.x"
   ]
  },
  {
   "cell_type": "code",
   "execution_count": 25,
   "id": "958219e8",
   "metadata": {},
   "outputs": [],
   "source": [
    "a = Foo(20)"
   ]
  },
  {
   "cell_type": "code",
   "execution_count": 26,
   "id": "166431f5",
   "metadata": {},
   "outputs": [],
   "source": [
    "b = Foo()"
   ]
  },
  {
   "cell_type": "code",
   "execution_count": 27,
   "id": "5d926d8b",
   "metadata": {},
   "outputs": [
    {
     "data": {
      "text/plain": [
       "30"
      ]
     },
     "execution_count": 27,
     "metadata": {},
     "output_type": "execute_result"
    }
   ],
   "source": [
    "a+b"
   ]
  },
  {
   "cell_type": "code",
   "execution_count": 28,
   "id": "00c8d43d",
   "metadata": {},
   "outputs": [],
   "source": [
    "# Calling Objects as Functions\n",
    "\n",
    "class Foo:\n",
    "    def __call__(self,x):\n",
    "        return x*10"
   ]
  },
  {
   "cell_type": "code",
   "execution_count": 30,
   "id": "53038bfa",
   "metadata": {},
   "outputs": [
    {
     "data": {
      "text/plain": [
       "100"
      ]
     },
     "execution_count": 30,
     "metadata": {},
     "output_type": "execute_result"
    }
   ],
   "source": [
    "f = Foo()\n",
    "f(10)"
   ]
  },
  {
   "cell_type": "markdown",
   "id": "ba4adaa6",
   "metadata": {},
   "source": [
    "### Inheritance"
   ]
  },
  {
   "cell_type": "code",
   "execution_count": 32,
   "id": "caf26fdb",
   "metadata": {},
   "outputs": [],
   "source": [
    "class Foo:\n",
    "    def __init__(self, x=10):\n",
    "        self.x = x\n",
    "    def compute_this(self, y = 20):\n",
    "        return self.x*y"
   ]
  },
  {
   "cell_type": "code",
   "execution_count": 33,
   "id": "9cceddf6",
   "metadata": {},
   "outputs": [],
   "source": [
    "t = Foo()"
   ]
  },
  {
   "cell_type": "code",
   "execution_count": 34,
   "id": "9579250c",
   "metadata": {},
   "outputs": [
    {
     "data": {
      "text/plain": [
       "100"
      ]
     },
     "execution_count": 34,
     "metadata": {},
     "output_type": "execute_result"
    }
   ],
   "source": [
    "t.compute_this(10)"
   ]
  },
  {
   "cell_type": "code",
   "execution_count": 35,
   "id": "b7b7b9d4",
   "metadata": {},
   "outputs": [],
   "source": [
    "## Let´s test how inheritance works\n",
    "class new(Foo):\n",
    "    #Override method\n",
    "    def compute_this(self,y=20):\n",
    "        return self.x*y*100"
   ]
  },
  {
   "cell_type": "code",
   "execution_count": 36,
   "id": "a00125ec",
   "metadata": {},
   "outputs": [],
   "source": [
    "n = new()"
   ]
  },
  {
   "cell_type": "code",
   "execution_count": 37,
   "id": "25da5dbe",
   "metadata": {},
   "outputs": [
    {
     "data": {
      "text/plain": [
       "10000"
      ]
     },
     "execution_count": 37,
     "metadata": {},
     "output_type": "execute_result"
    }
   ],
   "source": [
    "n.compute_this(10)"
   ]
  },
  {
   "cell_type": "code",
   "execution_count": 39,
   "id": "fe3450f6",
   "metadata": {},
   "outputs": [
    {
     "data": {
      "text/plain": [
       "[1, 3]"
      ]
     },
     "execution_count": 39,
     "metadata": {},
     "output_type": "execute_result"
    }
   ],
   "source": [
    "# We can Inheritance from python´s class\n",
    "\n",
    "list([1,3])"
   ]
  },
  {
   "cell_type": "code",
   "execution_count": 47,
   "id": "e8d64761",
   "metadata": {},
   "outputs": [
    {
     "name": "stdout",
     "output_type": "stream",
     "text": [
      "Help on class list in module builtins:\n",
      "\n",
      "class list(object)\n",
      " |  list(iterable=(), /)\n",
      " |  \n",
      " |  Built-in mutable sequence.\n",
      " |  \n",
      " |  If no argument is given, the constructor creates a new empty list.\n",
      " |  The argument must be an iterable if specified.\n",
      " |  \n",
      " |  Methods defined here:\n",
      " |  \n",
      " |  __add__(self, value, /)\n",
      " |      Return self+value.\n",
      " |  \n",
      " |  __contains__(self, key, /)\n",
      " |      Return key in self.\n",
      " |  \n",
      " |  __delitem__(self, key, /)\n",
      " |      Delete self[key].\n",
      " |  \n",
      " |  __eq__(self, value, /)\n",
      " |      Return self==value.\n",
      " |  \n",
      " |  __ge__(self, value, /)\n",
      " |      Return self>=value.\n",
      " |  \n",
      " |  __getattribute__(self, name, /)\n",
      " |      Return getattr(self, name).\n",
      " |  \n",
      " |  __getitem__(...)\n",
      " |      x.__getitem__(y) <==> x[y]\n",
      " |  \n",
      " |  __gt__(self, value, /)\n",
      " |      Return self>value.\n",
      " |  \n",
      " |  __iadd__(self, value, /)\n",
      " |      Implement self+=value.\n",
      " |  \n",
      " |  __imul__(self, value, /)\n",
      " |      Implement self*=value.\n",
      " |  \n",
      " |  __init__(self, /, *args, **kwargs)\n",
      " |      Initialize self.  See help(type(self)) for accurate signature.\n",
      " |  \n",
      " |  __iter__(self, /)\n",
      " |      Implement iter(self).\n",
      " |  \n",
      " |  __le__(self, value, /)\n",
      " |      Return self<=value.\n",
      " |  \n",
      " |  __len__(self, /)\n",
      " |      Return len(self).\n",
      " |  \n",
      " |  __lt__(self, value, /)\n",
      " |      Return self<value.\n",
      " |  \n",
      " |  __mul__(self, value, /)\n",
      " |      Return self*value.\n",
      " |  \n",
      " |  __ne__(self, value, /)\n",
      " |      Return self!=value.\n",
      " |  \n",
      " |  __repr__(self, /)\n",
      " |      Return repr(self).\n",
      " |  \n",
      " |  __reversed__(self, /)\n",
      " |      Return a reverse iterator over the list.\n",
      " |  \n",
      " |  __rmul__(self, value, /)\n",
      " |      Return value*self.\n",
      " |  \n",
      " |  __setitem__(self, key, value, /)\n",
      " |      Set self[key] to value.\n",
      " |  \n",
      " |  __sizeof__(self, /)\n",
      " |      Return the size of the list in memory, in bytes.\n",
      " |  \n",
      " |  append(self, object, /)\n",
      " |      Append object to the end of the list.\n",
      " |  \n",
      " |  clear(self, /)\n",
      " |      Remove all items from list.\n",
      " |  \n",
      " |  copy(self, /)\n",
      " |      Return a shallow copy of the list.\n",
      " |  \n",
      " |  count(self, value, /)\n",
      " |      Return number of occurrences of value.\n",
      " |  \n",
      " |  extend(self, iterable, /)\n",
      " |      Extend list by appending elements from the iterable.\n",
      " |  \n",
      " |  index(self, value, start=0, stop=9223372036854775807, /)\n",
      " |      Return first index of value.\n",
      " |      \n",
      " |      Raises ValueError if the value is not present.\n",
      " |  \n",
      " |  insert(self, index, object, /)\n",
      " |      Insert object before index.\n",
      " |  \n",
      " |  pop(self, index=-1, /)\n",
      " |      Remove and return item at index (default last).\n",
      " |      \n",
      " |      Raises IndexError if list is empty or index is out of range.\n",
      " |  \n",
      " |  remove(self, value, /)\n",
      " |      Remove first occurrence of value.\n",
      " |      \n",
      " |      Raises ValueError if the value is not present.\n",
      " |  \n",
      " |  reverse(self, /)\n",
      " |      Reverse *IN PLACE*.\n",
      " |  \n",
      " |  sort(self, /, *, key=None, reverse=False)\n",
      " |      Sort the list in ascending order and return None.\n",
      " |      \n",
      " |      The sort is in-place (i.e. the list itself is modified) and stable (i.e. the\n",
      " |      order of two equal elements is maintained).\n",
      " |      \n",
      " |      If a key function is given, apply it once to each list item and sort them,\n",
      " |      ascending or descending, according to their function values.\n",
      " |      \n",
      " |      The reverse flag can be set to sort in descending order.\n",
      " |  \n",
      " |  ----------------------------------------------------------------------\n",
      " |  Class methods defined here:\n",
      " |  \n",
      " |  __class_getitem__(...) from builtins.type\n",
      " |      See PEP 585\n",
      " |  \n",
      " |  ----------------------------------------------------------------------\n",
      " |  Static methods defined here:\n",
      " |  \n",
      " |  __new__(*args, **kwargs) from builtins.type\n",
      " |      Create and return a new object.  See help(type) for accurate signature.\n",
      " |  \n",
      " |  ----------------------------------------------------------------------\n",
      " |  Data and other attributes defined here:\n",
      " |  \n",
      " |  __hash__ = None\n",
      "\n"
     ]
    }
   ],
   "source": [
    "help(list)"
   ]
  },
  {
   "cell_type": "code",
   "execution_count": 53,
   "id": "fd0e74af",
   "metadata": {},
   "outputs": [],
   "source": [
    "class MyList(list):\n",
    "    def __len__(self):\n",
    "        return 20\n",
    "    "
   ]
  },
  {
   "cell_type": "code",
   "execution_count": 57,
   "id": "a34d9fe3",
   "metadata": {},
   "outputs": [
    {
     "data": {
      "text/plain": [
       "20"
      ]
     },
     "execution_count": 57,
     "metadata": {},
     "output_type": "execute_result"
    }
   ],
   "source": [
    "len(MyList([1,3])) # It works"
   ]
  },
  {
   "cell_type": "markdown",
   "id": "310502e8",
   "metadata": {},
   "source": [
    "### Class Functions"
   ]
  },
  {
   "cell_type": "code",
   "execution_count": 65,
   "id": "fed4ae69",
   "metadata": {},
   "outputs": [],
   "source": [
    "#Decoratos\n",
    "\n",
    "class Foo:\n",
    "    @classmethod\n",
    "    def class_function(cls, x = 10):\n",
    "        return x*10"
   ]
  },
  {
   "cell_type": "code",
   "execution_count": 66,
   "id": "28b01bd2",
   "metadata": {},
   "outputs": [
    {
     "data": {
      "text/plain": [
       "200"
      ]
     },
     "execution_count": 66,
     "metadata": {},
     "output_type": "execute_result"
    }
   ],
   "source": [
    "Foo.class_function(20) # dont need the instance"
   ]
  },
  {
   "cell_type": "code",
   "execution_count": 63,
   "id": "d9534d11",
   "metadata": {},
   "outputs": [],
   "source": []
  },
  {
   "cell_type": "code",
   "execution_count": null,
   "id": "2dc5d128",
   "metadata": {},
   "outputs": [],
   "source": []
  }
 ],
 "metadata": {
  "kernelspec": {
   "display_name": "Python 3 (ipykernel)",
   "language": "python",
   "name": "python3"
  },
  "language_info": {
   "codemirror_mode": {
    "name": "ipython",
    "version": 3
   },
   "file_extension": ".py",
   "mimetype": "text/x-python",
   "name": "python",
   "nbconvert_exporter": "python",
   "pygments_lexer": "ipython3",
   "version": "3.11.5"
  }
 },
 "nbformat": 4,
 "nbformat_minor": 5
}
