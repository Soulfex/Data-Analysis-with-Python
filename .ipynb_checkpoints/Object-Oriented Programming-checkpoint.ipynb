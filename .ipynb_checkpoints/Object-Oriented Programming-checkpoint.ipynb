{
 "cells": [
  {
   "cell_type": "markdown",
   "id": "9cba0141",
   "metadata": {},
   "source": [
    "## Class"
   ]
  },
  {
   "cell_type": "code",
   "execution_count": 1,
   "id": "69045865",
   "metadata": {},
   "outputs": [],
   "source": [
    "f = lambda x:2*x"
   ]
  },
  {
   "cell_type": "code",
   "execution_count": 3,
   "id": "d68e18a6",
   "metadata": {},
   "outputs": [],
   "source": [
    "f.x = 30 # Attribite"
   ]
  },
  {
   "cell_type": "code",
   "execution_count": 6,
   "id": "2689cc86",
   "metadata": {},
   "outputs": [],
   "source": [
    "class Foo:\n",
    "    pass"
   ]
  },
  {
   "cell_type": "code",
   "execution_count": 7,
   "id": "81c29db8",
   "metadata": {},
   "outputs": [],
   "source": [
    "f = Foo()"
   ]
  },
  {
   "cell_type": "code",
   "execution_count": 9,
   "id": "7e66d13c",
   "metadata": {},
   "outputs": [],
   "source": [
    "f.x = 30"
   ]
  },
  {
   "cell_type": "code",
   "execution_count": 10,
   "id": "4d96f986",
   "metadata": {},
   "outputs": [
    {
     "data": {
      "text/plain": [
       "30"
      ]
     },
     "execution_count": 10,
     "metadata": {},
     "output_type": "execute_result"
    }
   ],
   "source": [
    "f.x"
   ]
  },
  {
   "cell_type": "code",
   "execution_count": 11,
   "id": "80aa98f5",
   "metadata": {},
   "outputs": [],
   "source": [
    "## Now we can instance the attrubutes of our class \n",
    "\n",
    "class Foo:\n",
    "    def __init__(self):\n",
    "        self.x = 30"
   ]
  },
  {
   "cell_type": "code",
   "execution_count": 12,
   "id": "2e9250a0",
   "metadata": {},
   "outputs": [],
   "source": [
    "iObject = Foo()"
   ]
  },
  {
   "cell_type": "code",
   "execution_count": 13,
   "id": "877754b3",
   "metadata": {},
   "outputs": [
    {
     "data": {
      "text/plain": [
       "30"
      ]
     },
     "execution_count": 13,
     "metadata": {},
     "output_type": "execute_result"
    }
   ],
   "source": [
    "iObject.x"
   ]
  },
  {
   "cell_type": "code",
   "execution_count": 14,
   "id": "61f99b8b",
   "metadata": {},
   "outputs": [],
   "source": [
    "# Arguments to the __init_ function\n",
    "\n",
    "class Foo:\n",
    "    def __init__(self, x=30):\n",
    "        self.x = x\n",
    "    "
   ]
  },
  {
   "cell_type": "code",
   "execution_count": 17,
   "id": "25a84452",
   "metadata": {},
   "outputs": [
    {
     "data": {
      "text/plain": [
       "30"
      ]
     },
     "execution_count": 17,
     "metadata": {},
     "output_type": "execute_result"
    }
   ],
   "source": [
    "g = Foo()\n",
    "g.x"
   ]
  },
  {
   "cell_type": "code",
   "execution_count": 18,
   "id": "6d5769b4",
   "metadata": {},
   "outputs": [
    {
     "data": {
      "text/plain": [
       "300"
      ]
     },
     "execution_count": 18,
     "metadata": {},
     "output_type": "execute_result"
    }
   ],
   "source": [
    "g = Foo(300)\n",
    "g.x"
   ]
  },
  {
   "cell_type": "code",
   "execution_count": 19,
   "id": "b1bc6648",
   "metadata": {},
   "outputs": [],
   "source": [
    "# Methods\n",
    "\n",
    "class Foo:\n",
    "    def __init__(self, x = 30):\n",
    "        self.x = x\n",
    "    def foo(self, y = 30):\n",
    "        return self.x*y"
   ]
  },
  {
   "cell_type": "code",
   "execution_count": 22,
   "id": "8956ccda",
   "metadata": {},
   "outputs": [],
   "source": [
    "tObject = Foo(9)"
   ]
  },
  {
   "cell_type": "code",
   "execution_count": 23,
   "id": "9ee6c81b",
   "metadata": {},
   "outputs": [
    {
     "data": {
      "text/plain": [
       "90"
      ]
     },
     "execution_count": 23,
     "metadata": {},
     "output_type": "execute_result"
    }
   ],
   "source": [
    "tObject.foo(10)"
   ]
  },
  {
   "cell_type": "code",
   "execution_count": 24,
   "id": "834d5c9a",
   "metadata": {},
   "outputs": [],
   "source": [
    "class Foo:\n",
    "    def __init__(self, x = 10):\n",
    "        self.x = x\n",
    "    def __add__(self,y):\n",
    "        return self.x + y.x"
   ]
  },
  {
   "cell_type": "code",
   "execution_count": 25,
   "id": "e2deae34",
   "metadata": {},
   "outputs": [],
   "source": [
    "a = Foo(20)"
   ]
  },
  {
   "cell_type": "code",
   "execution_count": 26,
   "id": "9b89e55b",
   "metadata": {},
   "outputs": [],
   "source": [
    "b = Foo()"
   ]
  },
  {
   "cell_type": "code",
   "execution_count": 27,
   "id": "a50cb732",
   "metadata": {},
   "outputs": [
    {
     "data": {
      "text/plain": [
       "30"
      ]
     },
     "execution_count": 27,
     "metadata": {},
     "output_type": "execute_result"
    }
   ],
   "source": [
    "a+b"
   ]
  },
  {
   "cell_type": "code",
   "execution_count": 28,
   "id": "9b09eee5",
   "metadata": {},
   "outputs": [],
   "source": [
    "# Calling Objects as Functions\n",
    "\n",
    "class Foo:\n",
    "    def __call__(self,x):\n",
    "        return x*10"
   ]
  },
  {
   "cell_type": "code",
   "execution_count": 30,
   "id": "a1ac427b",
   "metadata": {},
   "outputs": [
    {
     "data": {
      "text/plain": [
       "100"
      ]
     },
     "execution_count": 30,
     "metadata": {},
     "output_type": "execute_result"
    }
   ],
   "source": [
    "f = Foo()\n",
    "f(10)"
   ]
  },
  {
   "cell_type": "markdown",
   "id": "1c4a1c92",
   "metadata": {},
   "source": [
    "### Inheritance"
   ]
  },
  {
   "cell_type": "code",
   "execution_count": 32,
   "id": "24530808",
   "metadata": {},
   "outputs": [],
   "source": [
    "class Foo:\n",
    "    def __init__(self, x=10):\n",
    "        self.x = x\n",
    "    def compute_this(self, y = 20):\n",
    "        return self.x*y"
   ]
  },
  {
   "cell_type": "code",
   "execution_count": 33,
   "id": "883272ff",
   "metadata": {},
   "outputs": [],
   "source": [
    "t = Foo()"
   ]
  },
  {
   "cell_type": "code",
   "execution_count": 34,
   "id": "a703fe32",
   "metadata": {},
   "outputs": [
    {
     "data": {
      "text/plain": [
       "100"
      ]
     },
     "execution_count": 34,
     "metadata": {},
     "output_type": "execute_result"
    }
   ],
   "source": [
    "t.compute_this(10)"
   ]
  },
  {
   "cell_type": "code",
   "execution_count": 35,
   "id": "1da1140d",
   "metadata": {},
   "outputs": [],
   "source": [
    "## Let´s test how inheritance works\n",
    "class new(Foo):\n",
    "    #Override method\n",
    "    def compute_this(self,y=20):\n",
    "        return self.x*y*100"
   ]
  },
  {
   "cell_type": "code",
   "execution_count": 36,
   "id": "7713f7c5",
   "metadata": {},
   "outputs": [],
   "source": [
    "n = new()"
   ]
  },
  {
   "cell_type": "code",
   "execution_count": 37,
   "id": "5bd99f71",
   "metadata": {},
   "outputs": [
    {
     "data": {
      "text/plain": [
       "10000"
      ]
     },
     "execution_count": 37,
     "metadata": {},
     "output_type": "execute_result"
    }
   ],
   "source": [
    "n.compute_this(10)"
   ]
  },
  {
   "cell_type": "code",
   "execution_count": 39,
   "id": "0c8a8478",
   "metadata": {},
   "outputs": [
    {
     "data": {
      "text/plain": [
       "[1, 3]"
      ]
     },
     "execution_count": 39,
     "metadata": {},
     "output_type": "execute_result"
    }
   ],
   "source": [
    "# We can Inheritance from python´s class\n",
    "\n",
    "list([1,3])"
   ]
  },
  {
   "cell_type": "code",
   "execution_count": 47,
   "id": "00b9f0d9",
   "metadata": {},
   "outputs": [
    {
     "name": "stdout",
     "output_type": "stream",
     "text": [
      "Help on class list in module builtins:\n",
      "\n",
      "class list(object)\n",
      " |  list(iterable=(), /)\n",
      " |  \n",
      " |  Built-in mutable sequence.\n",
      " |  \n",
      " |  If no argument is given, the constructor creates a new empty list.\n",
      " |  The argument must be an iterable if specified.\n",
      " |  \n",
      " |  Methods defined here:\n",
      " |  \n",
      " |  __add__(self, value, /)\n",
      " |      Return self+value.\n",
      " |  \n",
      " |  __contains__(self, key, /)\n",
      " |      Return key in self.\n",
      " |  \n",
      " |  __delitem__(self, key, /)\n",
      " |      Delete self[key].\n",
      " |  \n",
      " |  __eq__(self, value, /)\n",
      " |      Return self==value.\n",
      " |  \n",
      " |  __ge__(self, value, /)\n",
      " |      Return self>=value.\n",
      " |  \n",
      " |  __getattribute__(self, name, /)\n",
      " |      Return getattr(self, name).\n",
      " |  \n",
      " |  __getitem__(...)\n",
      " |      x.__getitem__(y) <==> x[y]\n",
      " |  \n",
      " |  __gt__(self, value, /)\n",
      " |      Return self>value.\n",
      " |  \n",
      " |  __iadd__(self, value, /)\n",
      " |      Implement self+=value.\n",
      " |  \n",
      " |  __imul__(self, value, /)\n",
      " |      Implement self*=value.\n",
      " |  \n",
      " |  __init__(self, /, *args, **kwargs)\n",
      " |      Initialize self.  See help(type(self)) for accurate signature.\n",
      " |  \n",
      " |  __iter__(self, /)\n",
      " |      Implement iter(self).\n",
      " |  \n",
      " |  __le__(self, value, /)\n",
      " |      Return self<=value.\n",
      " |  \n",
      " |  __len__(self, /)\n",
      " |      Return len(self).\n",
      " |  \n",
      " |  __lt__(self, value, /)\n",
      " |      Return self<value.\n",
      " |  \n",
      " |  __mul__(self, value, /)\n",
      " |      Return self*value.\n",
      " |  \n",
      " |  __ne__(self, value, /)\n",
      " |      Return self!=value.\n",
      " |  \n",
      " |  __repr__(self, /)\n",
      " |      Return repr(self).\n",
      " |  \n",
      " |  __reversed__(self, /)\n",
      " |      Return a reverse iterator over the list.\n",
      " |  \n",
      " |  __rmul__(self, value, /)\n",
      " |      Return value*self.\n",
      " |  \n",
      " |  __setitem__(self, key, value, /)\n",
      " |      Set self[key] to value.\n",
      " |  \n",
      " |  __sizeof__(self, /)\n",
      " |      Return the size of the list in memory, in bytes.\n",
      " |  \n",
      " |  append(self, object, /)\n",
      " |      Append object to the end of the list.\n",
      " |  \n",
      " |  clear(self, /)\n",
      " |      Remove all items from list.\n",
      " |  \n",
      " |  copy(self, /)\n",
      " |      Return a shallow copy of the list.\n",
      " |  \n",
      " |  count(self, value, /)\n",
      " |      Return number of occurrences of value.\n",
      " |  \n",
      " |  extend(self, iterable, /)\n",
      " |      Extend list by appending elements from the iterable.\n",
      " |  \n",
      " |  index(self, value, start=0, stop=9223372036854775807, /)\n",
      " |      Return first index of value.\n",
      " |      \n",
      " |      Raises ValueError if the value is not present.\n",
      " |  \n",
      " |  insert(self, index, object, /)\n",
      " |      Insert object before index.\n",
      " |  \n",
      " |  pop(self, index=-1, /)\n",
      " |      Remove and return item at index (default last).\n",
      " |      \n",
      " |      Raises IndexError if list is empty or index is out of range.\n",
      " |  \n",
      " |  remove(self, value, /)\n",
      " |      Remove first occurrence of value.\n",
      " |      \n",
      " |      Raises ValueError if the value is not present.\n",
      " |  \n",
      " |  reverse(self, /)\n",
      " |      Reverse *IN PLACE*.\n",
      " |  \n",
      " |  sort(self, /, *, key=None, reverse=False)\n",
      " |      Sort the list in ascending order and return None.\n",
      " |      \n",
      " |      The sort is in-place (i.e. the list itself is modified) and stable (i.e. the\n",
      " |      order of two equal elements is maintained).\n",
      " |      \n",
      " |      If a key function is given, apply it once to each list item and sort them,\n",
      " |      ascending or descending, according to their function values.\n",
      " |      \n",
      " |      The reverse flag can be set to sort in descending order.\n",
      " |  \n",
      " |  ----------------------------------------------------------------------\n",
      " |  Class methods defined here:\n",
      " |  \n",
      " |  __class_getitem__(...) from builtins.type\n",
      " |      See PEP 585\n",
      " |  \n",
      " |  ----------------------------------------------------------------------\n",
      " |  Static methods defined here:\n",
      " |  \n",
      " |  __new__(*args, **kwargs) from builtins.type\n",
      " |      Create and return a new object.  See help(type) for accurate signature.\n",
      " |  \n",
      " |  ----------------------------------------------------------------------\n",
      " |  Data and other attributes defined here:\n",
      " |  \n",
      " |  __hash__ = None\n",
      "\n"
     ]
    }
   ],
   "source": [
    "help(list)"
   ]
  },
  {
   "cell_type": "code",
   "execution_count": 53,
   "id": "74ffd59a",
   "metadata": {},
   "outputs": [],
   "source": [
    "class MyList(list):\n",
    "    def __len__(self):\n",
    "        return 20\n",
    "    "
   ]
  },
  {
   "cell_type": "code",
   "execution_count": 57,
   "id": "42fb7917",
   "metadata": {},
   "outputs": [
    {
     "data": {
      "text/plain": [
       "20"
      ]
     },
     "execution_count": 57,
     "metadata": {},
     "output_type": "execute_result"
    }
   ],
   "source": [
    "len(MyList([1,3])) # It works"
   ]
  },
  {
   "cell_type": "markdown",
   "id": "16b4a1bf",
   "metadata": {},
   "source": [
    "### Class Functions"
   ]
  },
  {
   "cell_type": "code",
   "execution_count": 69,
   "id": "a2c83a7e",
   "metadata": {},
   "outputs": [],
   "source": [
    "#Decoratos\n",
    "\n",
    "class Foo:\n",
    "    counter = 0\n",
    "    def __init__(self):\n",
    "        Foo.increaseCounter()\n",
    "    @classmethod\n",
    "    def class_function(cls, x = 10):\n",
    "        return x*10\n",
    "    \n",
    "    @classmethod\n",
    "    def increaseCounter(cls):\n",
    "        cls.counter += 1\n",
    "        \n",
    "    @classmethod\n",
    "    def getCounter(cls):\n",
    "        return cls.counter"
   ]
  },
  {
   "cell_type": "code",
   "execution_count": 66,
   "id": "32e293ec",
   "metadata": {},
   "outputs": [
    {
     "data": {
      "text/plain": [
       "200"
      ]
     },
     "execution_count": 66,
     "metadata": {},
     "output_type": "execute_result"
    }
   ],
   "source": [
    "Foo.class_function(20) # dont need the instance"
   ]
  },
  {
   "cell_type": "code",
   "execution_count": 70,
   "id": "31155e4c",
   "metadata": {},
   "outputs": [],
   "source": [
    "f = Foo()\n",
    "g = Foo()"
   ]
  },
  {
   "cell_type": "code",
   "execution_count": 71,
   "id": "8b95c4f9",
   "metadata": {},
   "outputs": [
    {
     "data": {
      "text/plain": [
       "2"
      ]
     },
     "execution_count": 71,
     "metadata": {},
     "output_type": "execute_result"
    }
   ],
   "source": [
    "f.counter"
   ]
  },
  {
   "cell_type": "code",
   "execution_count": 72,
   "id": "8147c360",
   "metadata": {},
   "outputs": [],
   "source": [
    "del f,g"
   ]
  },
  {
   "cell_type": "code",
   "execution_count": 74,
   "id": "68d3f55a",
   "metadata": {},
   "outputs": [
    {
     "data": {
      "text/plain": [
       "2"
      ]
     },
     "execution_count": 74,
     "metadata": {},
     "output_type": "execute_result"
    }
   ],
   "source": [
    "Foo.counter"
   ]
  },
  {
   "cell_type": "markdown",
   "id": "ecbbde3b",
   "metadata": {},
   "source": [
    "### Static Methods"
   ]
  },
  {
   "cell_type": "code",
   "execution_count": 75,
   "id": "2030d591",
   "metadata": {},
   "outputs": [],
   "source": [
    "class Foo:\n",
    "    @staticmethod ## When access to class attributes is not needed\n",
    "    def mystatic(x,y):\n",
    "        return x*y"
   ]
  },
  {
   "cell_type": "code",
   "execution_count": 76,
   "id": "f5e6b588",
   "metadata": {},
   "outputs": [
    {
     "data": {
      "text/plain": [
       "3"
      ]
     },
     "execution_count": 76,
     "metadata": {},
     "output_type": "execute_result"
    }
   ],
   "source": [
    "f = Foo()\n",
    "f.mystatic(1,3)"
   ]
  },
  {
   "cell_type": "markdown",
   "id": "cfd0b865",
   "metadata": {},
   "source": [
    "### Hashing"
   ]
  },
  {
   "cell_type": "code",
   "execution_count": 77,
   "id": "0a80961b",
   "metadata": {},
   "outputs": [],
   "source": [
    "class Foo:\n",
    "    def __init__(self):\n",
    "        self.__x = 10\n",
    "    def count(self):\n",
    "        return self.__x * 10"
   ]
  },
  {
   "cell_type": "code",
   "execution_count": 78,
   "id": "833d9c39",
   "metadata": {},
   "outputs": [],
   "source": [
    "f = Foo()"
   ]
  },
  {
   "cell_type": "code",
   "execution_count": 80,
   "id": "2d542b55",
   "metadata": {},
   "outputs": [
    {
     "data": {
      "text/plain": [
       "100"
      ]
     },
     "execution_count": 80,
     "metadata": {},
     "output_type": "execute_result"
    }
   ],
   "source": [
    "f.count()"
   ]
  },
  {
   "cell_type": "code",
   "execution_count": 81,
   "id": "8dd6aa74",
   "metadata": {},
   "outputs": [],
   "source": [
    "class Goo(Foo):\n",
    "    def __init__(self, x):\n",
    "        self.__x = x"
   ]
  },
  {
   "cell_type": "code",
   "execution_count": 83,
   "id": "1fc565dc",
   "metadata": {},
   "outputs": [],
   "source": [
    "g = Goo(11)"
   ]
  },
  {
   "cell_type": "code",
   "execution_count": 84,
   "id": "eb949c73",
   "metadata": {},
   "outputs": [
    {
     "ename": "AttributeError",
     "evalue": "'Goo' object has no attribute '_Foo__x'",
     "output_type": "error",
     "traceback": [
      "\u001b[1;31m---------------------------------------------------------------------------\u001b[0m",
      "\u001b[1;31mAttributeError\u001b[0m                            Traceback (most recent call last)",
      "Cell \u001b[1;32mIn[84], line 1\u001b[0m\n\u001b[1;32m----> 1\u001b[0m g\u001b[38;5;241m.\u001b[39mcount()\n",
      "Cell \u001b[1;32mIn[77], line 5\u001b[0m, in \u001b[0;36mFoo.count\u001b[1;34m(self)\u001b[0m\n\u001b[0;32m      4\u001b[0m \u001b[38;5;28;01mdef\u001b[39;00m \u001b[38;5;21mcount\u001b[39m(\u001b[38;5;28mself\u001b[39m):\n\u001b[1;32m----> 5\u001b[0m     \u001b[38;5;28;01mreturn\u001b[39;00m \u001b[38;5;28mself\u001b[39m\u001b[38;5;241m.\u001b[39m__x \u001b[38;5;241m*\u001b[39m \u001b[38;5;241m10\u001b[39m\n",
      "\u001b[1;31mAttributeError\u001b[0m: 'Goo' object has no attribute '_Foo__x'"
     ]
    }
   ],
   "source": [
    "g.count()"
   ]
  },
  {
   "cell_type": "markdown",
   "id": "f178ff33",
   "metadata": {},
   "source": [
    "### Using super:  (MRO, Method Resolution Order)"
   ]
  },
  {
   "cell_type": "code",
   "execution_count": 89,
   "id": "0f67a0c7",
   "metadata": {},
   "outputs": [],
   "source": [
    "class Base:\n",
    "    def abs(self):\n",
    "        print('in Base')\n",
    "        return 1\n",
    "    \n",
    "class A(Base):\n",
    "    def abs(self):\n",
    "        print('in A.abs')\n",
    "        oldVal= super(A,self).abs()\n",
    "        return abs(self.x) + oldVal\n",
    "    \n",
    "class B(Base):\n",
    "    def abs(self):\n",
    "        print('in B.abs')\n",
    "        oldVal = super(B, self).abs()\n",
    "        return oldVal*2"
   ]
  },
  {
   "cell_type": "code",
   "execution_count": 91,
   "id": "a5a30789",
   "metadata": {},
   "outputs": [],
   "source": [
    "bse = Base()"
   ]
  },
  {
   "cell_type": "code",
   "execution_count": 92,
   "id": "62dc32b8",
   "metadata": {},
   "outputs": [
    {
     "name": "stdout",
     "output_type": "stream",
     "text": [
      "in Base\n"
     ]
    },
    {
     "data": {
      "text/plain": [
       "1"
      ]
     },
     "execution_count": 92,
     "metadata": {},
     "output_type": "execute_result"
    }
   ],
   "source": [
    "bse.abs()"
   ]
  },
  {
   "cell_type": "code",
   "execution_count": 98,
   "id": "d44c9993",
   "metadata": {},
   "outputs": [],
   "source": [
    "class C(A,B):\n",
    "    x = 10\n",
    "    def abs(self):\n",
    "        return super(A,self).abs()"
   ]
  },
  {
   "cell_type": "code",
   "execution_count": 99,
   "id": "374150d5",
   "metadata": {},
   "outputs": [
    {
     "name": "stdout",
     "output_type": "stream",
     "text": [
      "in B.abs\n",
      "in Base\n"
     ]
    },
    {
     "data": {
      "text/plain": [
       "2"
      ]
     },
     "execution_count": 99,
     "metadata": {},
     "output_type": "execute_result"
    }
   ],
   "source": [
    "c = C()\n",
    "c.abs()"
   ]
  },
  {
   "cell_type": "code",
   "execution_count": 104,
   "id": "0830edbc",
   "metadata": {},
   "outputs": [],
   "source": [
    "import types\n",
    "\n",
    "\n",
    "class Foo: \n",
    "    class_variable = 10\n",
    "    \n",
    "    def myClassFunction(cls, x=10):\n",
    "        return x*10"
   ]
  },
  {
   "cell_type": "code",
   "execution_count": 106,
   "id": "021a29c6",
   "metadata": {},
   "outputs": [
    {
     "data": {
      "text/plain": [
       "100"
      ]
     },
     "execution_count": 106,
     "metadata": {},
     "output_type": "execute_result"
    }
   ],
   "source": [
    "Foo.myClassFunction(10)"
   ]
  },
  {
   "cell_type": "code",
   "execution_count": 107,
   "id": "88252ef9",
   "metadata": {},
   "outputs": [
    {
     "data": {
      "text/plain": [
       "<module 'types' from 'C:\\\\ProgramData\\\\anaconda3\\\\Lib\\\\types.py'>"
      ]
     },
     "execution_count": 107,
     "metadata": {},
     "output_type": "execute_result"
    }
   ],
   "source": []
  },
  {
   "cell_type": "markdown",
   "id": "04475ec3",
   "metadata": {},
   "source": [
    "### Library system"
   ]
  },
  {
   "cell_type": "code",
   "execution_count": 119,
   "id": "862b3927",
   "metadata": {},
   "outputs": [],
   "source": [
    "class Book:\n",
    "    \n",
    "    def __init__(self, name, autor, bookId):\n",
    "        self.name = name\n",
    "        self.autor = autor\n",
    "        self.bookId = bookId\n",
    "        self.isAvailable  = True\n",
    "        \n",
    "    def borrow(self):\n",
    "        if self.isAvailable:\n",
    "            self.isAvailable = False\n",
    "        else:\n",
    "            print(\"The book is not available\")\n",
    "            \n",
    "    def returnBook(self):\n",
    "        self.isAvailable = True\n",
    "        \n",
    "    def __str__(self):\n",
    "        return f\"{self.name} by {self.autor} is {'available' if self.isAvailable else 'Borrowed'}\"\n",
    "    "
   ]
  },
  {
   "cell_type": "code",
   "execution_count": 112,
   "id": "854282e3",
   "metadata": {},
   "outputs": [],
   "source": [
    "class Member:\n",
    "    def __init__(self, name, memberId):\n",
    "        \n",
    "        self.name = name\n",
    "        self.memberId = memberId\n",
    "        self.borrowedBooks = []\n",
    "        \n",
    "    def borrowBook(self, book):\n",
    "        \n",
    "        if book.isAvailable:\n",
    "            book.borrow()\n",
    "            self.borrowedBooks.append(book)\n",
    "        else:\n",
    "            print(\"The book is not available for borrowing\")\n",
    "            \n",
    "    def returnBook(self, book):\n",
    "        \n",
    "        if book in self.borroedBooks:\n",
    "            book.returnBook()\n",
    "            self.borrowedBooks.remove(book)\n",
    "        else:\n",
    "            print(\"The book is not in your inventory\")\n",
    "             \n",
    "        "
   ]
  },
  {
   "cell_type": "code",
   "execution_count": 128,
   "id": "af657985",
   "metadata": {},
   "outputs": [],
   "source": [
    "class Loan:\n",
    "    \n",
    "    def __init__(self, member, book):\n",
    "        \n",
    "        self.member = member\n",
    "        self.book = book\n",
    "        self.loanDate = datetime.now() \n",
    "        self.returnDate = self.loanDate + timedelta(days=14)\n",
    "    \n",
    "    def isActive(self):\n",
    "        return datetime.now() < self.returnDate\n",
    "    \n",
    "class Library:\n",
    "    \n",
    "    def __init__(self):\n",
    "        self.books = {}\n",
    "        self.members = {}\n",
    "        self.loans = []\n",
    "    \n",
    "    def addBook(self, book):\n",
    "        \n",
    "        if book.bookId not in self.books:\n",
    "            self.books[book.bookId] = book\n",
    "        else:\n",
    "            print(\"The book is already in the collection\")\n",
    "    \n",
    "    def addMember(self, member):\n",
    "        \n",
    "        if member.memberId not in members:\n",
    "            self.members[member.memberId] = member\n",
    "        else:\n",
    "            print(\"The member already exist\")\n",
    "            \n",
    "    def createLoan(self, memberId, bookId):\n",
    "        member = members.get(memberId)\n",
    "        book = books.get(bookId)\n",
    "        if member and book:\n",
    "            loan = Loan(member, book)\n",
    "            self.loans.append(loan)\n",
    "            member.borrowBook(book)\n",
    "            print(f\"Loan created: {book.title} to {member.name}\")\n",
    "        else:\n",
    "            print(\"Loan could not be created\")\n",
    "            \n",
    "    def returnBook(self, memberId, bookId):\n",
    "        member = members.get(memberId)\n",
    "        book = books.get(bookId)\n",
    "        if member and book:\n",
    "            member.returnBook(book)\n",
    "            self.loans = [loan for loan in self.loans if loan.book.bookId != bookId]\n",
    "            print(f\"Book returned: {book.title}\")\n",
    "    \n",
    "    def showAvailableBooks(self):\n",
    "        for book in self.books.values():\n",
    "            if book.isAvailable:\n",
    "                print(book)\n",
    "        \n",
    "            \n",
    "    \n",
    "\n",
    "    "
   ]
  },
  {
   "cell_type": "code",
   "execution_count": 129,
   "id": "427d4778",
   "metadata": {},
   "outputs": [],
   "source": [
    "library = Library()\n"
   ]
  },
  {
   "cell_type": "code",
   "execution_count": 125,
   "id": "1c27f25f",
   "metadata": {},
   "outputs": [
    {
     "data": {
      "text/plain": [
       "{}"
      ]
     },
     "execution_count": 125,
     "metadata": {},
     "output_type": "execute_result"
    }
   ],
   "source": [
    "library.books"
   ]
  },
  {
   "cell_type": "code",
   "execution_count": 130,
   "id": "533625e7",
   "metadata": {},
   "outputs": [],
   "source": [
    "## We add a book\n",
    "\n",
    "book = Book(\"Ender's Game\", \"Orson Scott Card\", 1)"
   ]
  },
  {
   "cell_type": "code",
   "execution_count": 131,
   "id": "3584c0fa",
   "metadata": {},
   "outputs": [],
   "source": [
    "library.addBook(book)"
   ]
  },
  {
   "cell_type": "code",
   "execution_count": 134,
   "id": "2ba95fd4",
   "metadata": {},
   "outputs": [
    {
     "name": "stdout",
     "output_type": "stream",
     "text": [
      "<__main__.Book object at 0x000001A358754090>\n"
     ]
    }
   ],
   "source": [
    "library.showAvailableBooks()"
   ]
  },
  {
   "cell_type": "code",
   "execution_count": null,
   "id": "3b981194",
   "metadata": {},
   "outputs": [],
   "source": []
  }
 ],
 "metadata": {
  "kernelspec": {
   "display_name": "Python 3 (ipykernel)",
   "language": "python",
   "name": "python3"
  },
  "language_info": {
   "codemirror_mode": {
    "name": "ipython",
    "version": 3
   },
   "file_extension": ".py",
   "mimetype": "text/x-python",
   "name": "python",
   "nbconvert_exporter": "python",
   "pygments_lexer": "ipython3",
   "version": "3.11.5"
  }
 },
 "nbformat": 4,
 "nbformat_minor": 5
}
